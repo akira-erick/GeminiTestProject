{
  "nbformat": 4,
  "nbformat_minor": 0,
  "metadata": {
    "colab": {
      "provenance": [],
      "authorship_tag": "ABX9TyPldWN49jzLAcbxRlYHOFaH",
      "include_colab_link": true
    },
    "kernelspec": {
      "name": "python3",
      "display_name": "Python 3"
    },
    "language_info": {
      "name": "python"
    }
  },
  "cells": [
    {
      "cell_type": "markdown",
      "metadata": {
        "id": "view-in-github",
        "colab_type": "text"
      },
      "source": [
        "<a href=\"https://colab.research.google.com/github/akira-erick/GeminiTestProject/blob/main/AluraGeminiTestProject.ipynb\" target=\"_parent\"><img src=\"https://colab.research.google.com/assets/colab-badge.svg\" alt=\"Open In Colab\"/></a>"
      ]
    },
    {
      "cell_type": "code",
      "execution_count": null,
      "metadata": {
        "colab": {
          "base_uri": "https://localhost:8080/"
        },
        "collapsed": true,
        "id": "7sCR99P4CrBo",
        "outputId": "6749ed33-1eab-4d5d-e8fc-1c84ca947f64"
      },
      "outputs": [
        {
          "output_type": "stream",
          "name": "stdout",
          "text": [
            "Requirement already satisfied: google-genai in /usr/local/lib/python3.11/dist-packages (1.15.0)\n",
            "Requirement already satisfied: anyio<5.0.0,>=4.8.0 in /usr/local/lib/python3.11/dist-packages (from google-genai) (4.9.0)\n",
            "Requirement already satisfied: google-auth<3.0.0,>=2.14.1 in /usr/local/lib/python3.11/dist-packages (from google-genai) (2.38.0)\n",
            "Requirement already satisfied: httpx<1.0.0,>=0.28.1 in /usr/local/lib/python3.11/dist-packages (from google-genai) (0.28.1)\n",
            "Requirement already satisfied: pydantic<3.0.0,>=2.0.0 in /usr/local/lib/python3.11/dist-packages (from google-genai) (2.11.4)\n",
            "Requirement already satisfied: requests<3.0.0,>=2.28.1 in /usr/local/lib/python3.11/dist-packages (from google-genai) (2.32.3)\n",
            "Requirement already satisfied: websockets<15.1.0,>=13.0.0 in /usr/local/lib/python3.11/dist-packages (from google-genai) (15.0.1)\n",
            "Requirement already satisfied: typing-extensions<5.0.0,>=4.11.0 in /usr/local/lib/python3.11/dist-packages (from google-genai) (4.13.2)\n",
            "Requirement already satisfied: idna>=2.8 in /usr/local/lib/python3.11/dist-packages (from anyio<5.0.0,>=4.8.0->google-genai) (3.10)\n",
            "Requirement already satisfied: sniffio>=1.1 in /usr/local/lib/python3.11/dist-packages (from anyio<5.0.0,>=4.8.0->google-genai) (1.3.1)\n",
            "Requirement already satisfied: cachetools<6.0,>=2.0.0 in /usr/local/lib/python3.11/dist-packages (from google-auth<3.0.0,>=2.14.1->google-genai) (5.5.2)\n",
            "Requirement already satisfied: pyasn1-modules>=0.2.1 in /usr/local/lib/python3.11/dist-packages (from google-auth<3.0.0,>=2.14.1->google-genai) (0.4.2)\n",
            "Requirement already satisfied: rsa<5,>=3.1.4 in /usr/local/lib/python3.11/dist-packages (from google-auth<3.0.0,>=2.14.1->google-genai) (4.9.1)\n",
            "Requirement already satisfied: certifi in /usr/local/lib/python3.11/dist-packages (from httpx<1.0.0,>=0.28.1->google-genai) (2025.4.26)\n",
            "Requirement already satisfied: httpcore==1.* in /usr/local/lib/python3.11/dist-packages (from httpx<1.0.0,>=0.28.1->google-genai) (1.0.9)\n",
            "Requirement already satisfied: h11>=0.16 in /usr/local/lib/python3.11/dist-packages (from httpcore==1.*->httpx<1.0.0,>=0.28.1->google-genai) (0.16.0)\n",
            "Requirement already satisfied: annotated-types>=0.6.0 in /usr/local/lib/python3.11/dist-packages (from pydantic<3.0.0,>=2.0.0->google-genai) (0.7.0)\n",
            "Requirement already satisfied: pydantic-core==2.33.2 in /usr/local/lib/python3.11/dist-packages (from pydantic<3.0.0,>=2.0.0->google-genai) (2.33.2)\n",
            "Requirement already satisfied: typing-inspection>=0.4.0 in /usr/local/lib/python3.11/dist-packages (from pydantic<3.0.0,>=2.0.0->google-genai) (0.4.0)\n",
            "Requirement already satisfied: charset-normalizer<4,>=2 in /usr/local/lib/python3.11/dist-packages (from requests<3.0.0,>=2.28.1->google-genai) (3.4.2)\n",
            "Requirement already satisfied: urllib3<3,>=1.21.1 in /usr/local/lib/python3.11/dist-packages (from requests<3.0.0,>=2.28.1->google-genai) (2.4.0)\n",
            "Requirement already satisfied: pyasn1<0.7.0,>=0.6.1 in /usr/local/lib/python3.11/dist-packages (from pyasn1-modules>=0.2.1->google-auth<3.0.0,>=2.14.1->google-genai) (0.6.1)\n"
          ]
        }
      ],
      "source": [
        "!pip install google-genai"
      ]
    },
    {
      "cell_type": "code",
      "source": [
        "import os\n",
        "from google.colab import userdata\n",
        "\n",
        "os.environ['GOOGLE_API_KEY'] = userdata.get('GOOGLE_API_KEY')"
      ],
      "metadata": {
        "id": "x4LGI89bC89O"
      },
      "execution_count": null,
      "outputs": []
    },
    {
      "cell_type": "code",
      "source": [
        "from google import genai\n",
        "\n",
        "client = genai.Client()"
      ],
      "metadata": {
        "id": "EtdEGZ4FEVDO"
      },
      "execution_count": null,
      "outputs": []
    },
    {
      "cell_type": "code",
      "source": [
        "for model in client.models.list():\n",
        "  print(model.name)"
      ],
      "metadata": {
        "colab": {
          "base_uri": "https://localhost:8080/"
        },
        "collapsed": true,
        "id": "JZSDYwp8FLef",
        "outputId": "0f820440-5105-4a22-87c2-f273ccef56f8"
      },
      "execution_count": null,
      "outputs": [
        {
          "output_type": "stream",
          "name": "stdout",
          "text": [
            "models/chat-bison-001\n",
            "models/text-bison-001\n",
            "models/embedding-gecko-001\n",
            "models/gemini-1.0-pro-vision-latest\n",
            "models/gemini-pro-vision\n",
            "models/gemini-1.5-pro-latest\n",
            "models/gemini-1.5-pro-001\n",
            "models/gemini-1.5-pro-002\n",
            "models/gemini-1.5-pro\n",
            "models/gemini-1.5-flash-latest\n",
            "models/gemini-1.5-flash-001\n",
            "models/gemini-1.5-flash-001-tuning\n",
            "models/gemini-1.5-flash\n",
            "models/gemini-1.5-flash-002\n",
            "models/gemini-1.5-flash-8b\n",
            "models/gemini-1.5-flash-8b-001\n",
            "models/gemini-1.5-flash-8b-latest\n",
            "models/gemini-1.5-flash-8b-exp-0827\n",
            "models/gemini-1.5-flash-8b-exp-0924\n",
            "models/gemini-2.5-pro-exp-03-25\n",
            "models/gemini-2.5-pro-preview-03-25\n",
            "models/gemini-2.5-flash-preview-04-17\n",
            "models/gemini-2.5-flash-preview-04-17-thinking\n",
            "models/gemini-2.5-pro-preview-05-06\n",
            "models/gemini-2.0-flash-exp\n",
            "models/gemini-2.0-flash\n",
            "models/gemini-2.0-flash-001\n",
            "models/gemini-2.0-flash-lite-001\n",
            "models/gemini-2.0-flash-lite\n",
            "models/gemini-2.0-flash-lite-preview-02-05\n",
            "models/gemini-2.0-flash-lite-preview\n",
            "models/gemini-2.0-pro-exp\n",
            "models/gemini-2.0-pro-exp-02-05\n",
            "models/gemini-exp-1206\n",
            "models/gemini-2.0-flash-thinking-exp-01-21\n",
            "models/gemini-2.0-flash-thinking-exp\n",
            "models/gemini-2.0-flash-thinking-exp-1219\n",
            "models/learnlm-2.0-flash-experimental\n",
            "models/gemma-3-1b-it\n",
            "models/gemma-3-4b-it\n",
            "models/gemma-3-12b-it\n",
            "models/gemma-3-27b-it\n",
            "models/embedding-001\n",
            "models/text-embedding-004\n",
            "models/gemini-embedding-exp-03-07\n",
            "models/gemini-embedding-exp\n",
            "models/aqa\n",
            "models/imagen-3.0-generate-002\n",
            "models/gemini-2.0-flash-live-001\n"
          ]
        }
      ]
    },
    {
      "cell_type": "code",
      "source": [
        "from google.genai import types\n",
        "\n",
        "model = 'gemini-2.0-flash'\n",
        "\n",
        "chat_config = types.GenerateContentConfig(\n",
        "    system_instruction=\"You're a code assistant and always aswers directly.\"\n",
        ")\n",
        "\n",
        "chat = client.chats.create(model=model, config=chat_config)"
      ],
      "metadata": {
        "id": "h38Dqxu0Lq4X"
      },
      "execution_count": null,
      "outputs": []
    },
    {
      "cell_type": "code",
      "source": [
        "prompt = input('Waiting for prompt:')\n",
        "\n",
        "while prompt != 'exit':\n",
        "  response = chat.send_message(prompt)\n",
        "  print(\"Answer:\\n \",response.text)\n",
        "  print(\"\\n\")\n",
        "  prompt = input('Waiting for prompt:')"
      ],
      "metadata": {
        "colab": {
          "base_uri": "https://localhost:8080/"
        },
        "id": "Ux9chodcNbXo",
        "outputId": "66e5a10c-80ea-4699-a450-ccbdb823f445"
      },
      "execution_count": null,
      "outputs": [
        {
          "name": "stdout",
          "output_type": "stream",
          "text": [
            "Waiting for prompt:In rust how can I make an asynchronous behavior?\n",
            "Answer:\n",
            "  In Rust, you can achieve asynchronous behavior using the `async` and `await` keywords, along with a runtime like Tokio or async-std. Here's a basic outline:\n",
            "\n",
            "1.  **`async` Keyword:**  Mark a function as asynchronous using `async fn`.  This transforms the function into an asynchronous state machine.\n",
            "\n",
            "2.  **`await` Keyword:**  Within an `async` function, use `await` to pause execution until a `Future` (representing an asynchronous operation) completes.\n",
            "\n",
            "3.  **`Future` Trait:** Asynchronous operations in Rust are represented by the `Future` trait.  A `Future` represents a value that may not be available yet.\n",
            "\n",
            "4.  **Runtime (Tokio, async-std):** You need a runtime to execute the `Future`s.  Tokio is a popular choice, but async-std is another option.  The runtime provides an event loop and task scheduler.\n",
            "\n",
            "Here's a simple example using Tokio:\n",
            "\n",
            "```rust\n",
            "use tokio::time::{sleep, Duration};\n",
            "\n",
            "#[tokio::main] //Marks the main function as asynchronous and uses the Tokio runtime.\n",
            "async fn main() {\n",
            "    println!(\"Starting...\");\n",
            "    let future1 = do_something(1, \"Task 1\").await;\n",
            "    let future2 = do_something(2, \"Task 2\").await;\n",
            "    println!(\"Done!\");\n",
            "}\n",
            "\n",
            "async fn do_something(id: u32, name: &str) {\n",
            "    println!(\"{}: Starting\", name);\n",
            "    sleep(Duration::from_secs(2)).await;\n",
            "    println!(\"{}: Finished!\", name);\n",
            "}\n",
            "```\n",
            "\n",
            "Key points:\n",
            "\n",
            "*   **`#[tokio::main]`:**  This attribute transforms the `main` function into an asynchronous function that runs on the Tokio runtime.  It's essential when using Tokio.\n",
            "*   **`sleep(Duration::from_secs(2)).await;`**: This simulates an asynchronous operation that takes 2 seconds.  `sleep` returns a `Future`, and `await` pauses execution until the sleep completes.  Without `await`, the `sleep` function would not execute as intended.\n",
            "*   **Concurrency:** Although the code appears sequential, the `await` keyword allows other tasks to run while waiting for a `Future` to complete.  In this example, `future1` and `future2` will begin immediately one after the other, because the `await` calls allow the other to progress during the `sleep`.\n",
            "\n",
            "To use this code, you'll need to add Tokio to your `Cargo.toml`:\n",
            "\n",
            "```toml\n",
            "[dependencies]\n",
            "tokio = { version = \"1\", features = [\"full\"] }\n",
            "```\n",
            "\n",
            "**Simplified Explanation:**\n",
            "\n",
            "Think of `async` as marking a function as \"pausable\".  `await` is the \"pause\" button.  The runtime (Tokio) manages these paused functions and resumes them when their `Future`s are ready. This allows other tasks to run in the meantime, achieving concurrency.\n",
            "\n",
            "\n",
            "\n",
            "Waiting for prompt:exit\n"
          ]
        }
      ]
    },
    {
      "cell_type": "code",
      "source": [
        "print(chat.get_history())"
      ],
      "metadata": {
        "colab": {
          "base_uri": "https://localhost:8080/"
        },
        "id": "cFpmjWWCO1pP",
        "outputId": "416f4549-0566-4cdf-fd34-330a7d5ecc18"
      },
      "execution_count": null,
      "outputs": [
        {
          "output_type": "stream",
          "name": "stdout",
          "text": [
            "[UserContent(parts=[Part(video_metadata=None, thought=None, inline_data=None, code_execution_result=None, executable_code=None, file_data=None, function_call=None, function_response=None, text='What is rust?')], role='user'), Content(parts=[Part(video_metadata=None, thought=None, inline_data=None, code_execution_result=None, executable_code=None, file_data=None, function_call=None, function_response=None, text='Rust is a systems programming language focused on safety, speed, and concurrency.\\n')], role='model'), UserContent(parts=[Part(video_metadata=None, thought=None, inline_data=None, code_execution_result=None, executable_code=None, file_data=None, function_call=None, function_response=None, text='What is rust?')], role='user'), Content(parts=[Part(video_metadata=None, thought=None, inline_data=None, code_execution_result=None, executable_code=None, file_data=None, function_call=None, function_response=None, text='Rust is a systems programming language focused on safety, speed, and concurrency. It achieves memory safety without garbage collection and enables fearless concurrency.\\n')], role='model'), UserContent(parts=[Part(video_metadata=None, thought=None, inline_data=None, code_execution_result=None, executable_code=None, file_data=None, function_call=None, function_response=None, text='What is rust?')], role='user'), Content(parts=[Part(video_metadata=None, thought=None, inline_data=None, code_execution_result=None, executable_code=None, file_data=None, function_call=None, function_response=None, text='Rust is a systems programming language focused on safety, speed, and concurrency.\\n')], role='model'), UserContent(parts=[Part(video_metadata=None, thought=None, inline_data=None, code_execution_result=None, executable_code=None, file_data=None, function_call=None, function_response=None, text='What is concurrency')], role='user'), Content(parts=[Part(video_metadata=None, thought=None, inline_data=None, code_execution_result=None, executable_code=None, file_data=None, function_call=None, function_response=None, text='Concurrency is the ability of a program to execute multiple tasks seemingly simultaneously.\\n')], role='model'), UserContent(parts=[Part(video_metadata=None, thought=None, inline_data=None, code_execution_result=None, executable_code=None, file_data=None, function_call=None, function_response=None, text='How rust handles memory safety?')], role='user'), Content(parts=[Part(video_metadata=None, thought=None, inline_data=None, code_execution_result=None, executable_code=None, file_data=None, function_call=None, function_response=None, text='Rust handles memory safety primarily through its ownership system, borrowing rules, and lifetimes. These mechanisms ensure that there are no dangling pointers, data races, or other memory-related errors at compile time, without needing a garbage collector.\\n')], role='model'), UserContent(parts=[Part(video_metadata=None, thought=None, inline_data=None, code_execution_result=None, executable_code=None, file_data=None, function_call=None, function_response=None, text='what was my first question?')], role='user'), Content(parts=[Part(video_metadata=None, thought=None, inline_data=None, code_execution_result=None, executable_code=None, file_data=None, function_call=None, function_response=None, text='Your first question was \"What is rust?\".\\n')], role='model')]\n"
          ]
        }
      ]
    }
  ]
}